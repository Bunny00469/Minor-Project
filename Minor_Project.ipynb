{
  "nbformat": 4,
  "nbformat_minor": 0,
  "metadata": {
    "colab": {
      "name": "Minor Project.ipynb",
      "provenance": [],
      "collapsed_sections": [],
      "authorship_tag": "ABX9TyPQnuzgs+vp7HquJUnGfPg+",
      "include_colab_link": true
    },
    "kernelspec": {
      "name": "python3",
      "display_name": "Python 3"
    },
    "language_info": {
      "name": "python"
    }
  },
  "cells": [
    {
      "cell_type": "markdown",
      "metadata": {
        "id": "view-in-github",
        "colab_type": "text"
      },
      "source": [
        "<a href=\"https://colab.research.google.com/github/Bunny00469/Minor-Project/blob/main/Minor_Project.ipynb\" target=\"_parent\"><img src=\"https://colab.research.google.com/assets/colab-badge.svg\" alt=\"Open In Colab\"/></a>"
      ]
    },
    {
      "cell_type": "code",
      "metadata": {
        "colab": {
          "base_uri": "https://localhost:8080/"
        },
        "id": "Oy1WDDcL7wsH",
        "outputId": "cdea2d50-9623-4a31-87c3-9d005cfd982c"
      },
      "source": [
        "!pip install ipython-autotime\n",
        "%load_ext autotime"
      ],
      "execution_count": 2,
      "outputs": [
        {
          "output_type": "stream",
          "text": [
            "Requirement already satisfied: ipython-autotime in /usr/local/lib/python3.7/dist-packages (0.3.1)\n",
            "Requirement already satisfied: ipython in /usr/local/lib/python3.7/dist-packages (from ipython-autotime) (5.5.0)\n",
            "Requirement already satisfied: simplegeneric>0.8 in /usr/local/lib/python3.7/dist-packages (from ipython->ipython-autotime) (0.8.1)\n",
            "Requirement already satisfied: traitlets>=4.2 in /usr/local/lib/python3.7/dist-packages (from ipython->ipython-autotime) (5.0.5)\n",
            "Requirement already satisfied: prompt-toolkit<2.0.0,>=1.0.4 in /usr/local/lib/python3.7/dist-packages (from ipython->ipython-autotime) (1.0.18)\n",
            "Requirement already satisfied: pickleshare in /usr/local/lib/python3.7/dist-packages (from ipython->ipython-autotime) (0.7.5)\n",
            "Requirement already satisfied: setuptools>=18.5 in /usr/local/lib/python3.7/dist-packages (from ipython->ipython-autotime) (57.0.0)\n",
            "Requirement already satisfied: pexpect; sys_platform != \"win32\" in /usr/local/lib/python3.7/dist-packages (from ipython->ipython-autotime) (4.8.0)\n",
            "Requirement already satisfied: pygments in /usr/local/lib/python3.7/dist-packages (from ipython->ipython-autotime) (2.6.1)\n",
            "Requirement already satisfied: decorator in /usr/local/lib/python3.7/dist-packages (from ipython->ipython-autotime) (4.4.2)\n",
            "Requirement already satisfied: ipython-genutils in /usr/local/lib/python3.7/dist-packages (from traitlets>=4.2->ipython->ipython-autotime) (0.2.0)\n",
            "Requirement already satisfied: six>=1.9.0 in /usr/local/lib/python3.7/dist-packages (from prompt-toolkit<2.0.0,>=1.0.4->ipython->ipython-autotime) (1.15.0)\n",
            "Requirement already satisfied: wcwidth in /usr/local/lib/python3.7/dist-packages (from prompt-toolkit<2.0.0,>=1.0.4->ipython->ipython-autotime) (0.2.5)\n",
            "Requirement already satisfied: ptyprocess>=0.5 in /usr/local/lib/python3.7/dist-packages (from pexpect; sys_platform != \"win32\"->ipython->ipython-autotime) (0.7.0)\n",
            "time: 216 µs (started: 2021-06-28 15:09:20 +00:00)\n"
          ],
          "name": "stdout"
        }
      ]
    },
    {
      "cell_type": "code",
      "metadata": {
        "colab": {
          "base_uri": "https://localhost:8080/"
        },
        "id": "psfbzkLE8ejf",
        "outputId": "299aea3f-907e-4677-e09c-3c1dbaf5a38f"
      },
      "source": [
        "!pip install bing-image-downloader"
      ],
      "execution_count": 3,
      "outputs": [
        {
          "output_type": "stream",
          "text": [
            "Requirement already satisfied: bing-image-downloader in /usr/local/lib/python3.7/dist-packages (1.1.1)\n",
            "time: 2.73 s (started: 2021-06-28 15:09:20 +00:00)\n"
          ],
          "name": "stdout"
        }
      ]
    },
    {
      "cell_type": "code",
      "metadata": {
        "colab": {
          "base_uri": "https://localhost:8080/"
        },
        "id": "7YxNI3cS8uVS",
        "outputId": "e5f0fc0c-4c78-4807-fa35-11e88ec7640b"
      },
      "source": [
        "!mkdir images"
      ],
      "execution_count": 4,
      "outputs": [
        {
          "output_type": "stream",
          "text": [
            "mkdir: cannot create directory ‘images’: File exists\n",
            "time: 117 ms (started: 2021-06-28 15:09:22 +00:00)\n"
          ],
          "name": "stdout"
        }
      ]
    },
    {
      "cell_type": "code",
      "metadata": {
        "colab": {
          "base_uri": "https://localhost:8080/"
        },
        "id": "Ne99rk2W8zFy",
        "outputId": "c595c8e9-9dd1-4a73-8457-6f6f0749a807"
      },
      "source": [
        "from bing_image_downloader import downloader\n",
        "downloader.download(\"chair\",limit=20,output_dir='images',\n",
        "                    adult_filter_off=True)"
      ],
      "execution_count": 5,
      "outputs": [
        {
          "output_type": "stream",
          "text": [
            "[%] Downloading Images to /content/images/chair\n",
            "\n",
            "\n",
            "[!!]Indexing page: 1\n",
            "\n",
            "[%] Indexed 20 Images on Page 1.\n",
            "\n",
            "===============================================\n",
            "\n",
            "[%] Downloading Image #1 from http://www.stagecoachdesigns.com/wp-content/uploads/2017/05/true-innovations-simply-comfortable-bonded-leather-executive-chair.jpg\n",
            "[%] File Downloaded !\n",
            "\n",
            "[%] Downloading Image #2 from https://i5.walmartimages.com/asr/fa973f85-b21f-42fb-8554-3293e06fbcf8_1.7e78277616ee510801e28018bf2072e9.jpeg\n",
            "[%] File Downloaded !\n",
            "\n",
            "[%] Downloading Image #3 from https://ebth-com-production.imgix.net/2016/06/08/19/55/34/936/_6061667.jpg?ixlib=rb-1.1.0&amp;w=880&amp;h=880&amp;fit=crop&amp;crop=&amp;auto=format\n",
            "[%] File Downloaded !\n",
            "\n",
            "[%] Downloading Image #4 from https://www.costco.co.uk/medias/sys_master/images/hb9/h81/12372228309022.jpg\n",
            "[%] File Downloaded !\n",
            "\n",
            "[%] Downloading Image #5 from https://www.costco.co.uk/medias/sys_master/images/hf9/h86/46716339748894.jpg\n",
            "[%] File Downloaded !\n",
            "\n",
            "[%] Downloading Image #6 from https://3.bp.blogspot.com/-vW2YcDU1eG0/WVRPV114K0I/AAAAAAABsQo/wWboZ1yzIWA38fM7ZrfdI2vXv0FsC8B3QCLcBGAs/s1600/20170628brownchair.jpg\n",
            "[%] File Downloaded !\n",
            "\n",
            "[%] Downloading Image #7 from https://americanqualityhealthproducts.com/37652-thickbox_default/pride-vivalift-escape-true-infinite-position-reclining-lift-chair-plr-990i.jpg\n",
            "[%] File Downloaded !\n",
            "\n",
            "[%] Downloading Image #8 from https://cdn.shopify.com/s/files/1/0225/2528/0331/products/true_vintage_side_chair_1_1_1000x.jpg?v=1587114005\n",
            "[%] File Downloaded !\n",
            "\n",
            "[%] Downloading Image #9 from https://www.trueinnovations.com/media/catalog/product/cache/1/image/9df78eab33525d08d6e5fb8d27136e95/4/5/45394-lifestyle.jpg\n",
            "[%] File Downloaded !\n",
            "\n",
            "[%] Downloading Image #10 from https://www.lightingdirect.com/imagebase/resized/x800/Safaviehimages/safavieh-mcr4737a-2283.jpg\n",
            "[%] File Downloaded !\n",
            "\n",
            "[%] Downloading Image #11 from https://image.invaluable.com/housePhotos/ejsauction/33/682633/H8897-L224297368.jpg\n",
            "[%] File Downloaded !\n",
            "\n",
            "[%] Downloading Image #12 from http://www.cochaser.com/blog/wp-content/uploads/2017/01/Costco-472747-True-Innovations-Fabric-Accent-Chair.jpg\n",
            "[!] Issue getting: http://www.cochaser.com/blog/wp-content/uploads/2017/01/Costco-472747-True-Innovations-Fabric-Accent-Chair.jpg\n",
            "[!] Error:: <urlopen error [SSL: CERTIFICATE_VERIFY_FAILED] certificate verify failed: unable to get local issuer certificate (_ssl.c:1091)>\n",
            "[%] Downloading Image #12 from https://danishdesignco.com.sg/wp-content/uploads/2018/12/Fredericia-Lounge-Chair-Swoon-10.jpg\n",
            "[!] Issue getting: https://danishdesignco.com.sg/wp-content/uploads/2018/12/Fredericia-Lounge-Chair-Swoon-10.jpg\n",
            "[!] Error:: HTTP Error 404: Not Found\n",
            "[%] Downloading Image #12 from https://ebth-com-production.imgix.net/2016/10/25/15/43/49/47d312e4-9ed3-4c44-8b9c-d9920ec0d651/_MG_7810.jpg?ixlib=rb-3.1.0&amp;w=880&amp;h=880&amp;fit=crop&amp;crop=&amp;auto=format\n",
            "[%] File Downloaded !\n",
            "\n",
            "[%] Downloading Image #13 from https://www.impactoffice.ca/wp-content/uploads/2020/05/truemesh.jpg\n",
            "[%] File Downloaded !\n",
            "\n",
            "[%] Downloading Image #14 from https://i5.walmartimages.com/asr/e18369ca-e926-41a8-83cb-0501631baa68_1.9760e3b46a6229223c41ca29be9e61f3.jpeg\n",
            "[%] File Downloaded !\n",
            "\n",
            "[%] Downloading Image #15 from https://www.cochaser.com/blog/wp-content/uploads/2017/08/Costco-1140950-True-Innovations-Fabric-Executive-Chair.jpg\n",
            "[!] Issue getting: https://www.cochaser.com/blog/wp-content/uploads/2017/08/Costco-1140950-True-Innovations-Fabric-Executive-Chair.jpg\n",
            "[!] Error:: <urlopen error [SSL: CERTIFICATE_VERIFY_FAILED] certificate verify failed: unable to get local issuer certificate (_ssl.c:1091)>\n",
            "[%] Downloading Image #15 from https://pisces.bbystatic.com/image2/BestBuy_US/images/products/9349/9349181_rd.jpg\n",
            "[%] File Downloaded !\n",
            "\n",
            "[%] Downloading Image #16 from https://vipoutlet.com/contents/uploads/2020/11/661faa59630741a1bd1b27b172419011.jpg\n",
            "[%] File Downloaded !\n",
            "\n",
            "[%] Downloading Image #17 from https://www.costco.co.uk/medias/sys_master/images/h3c/ha5/34012211609630.jpg\n",
            "[!] Issue getting: https://www.costco.co.uk/medias/sys_master/images/h3c/ha5/34012211609630.jpg\n",
            "[!] Error:: HTTP Error 404: Not Found\n",
            "\n",
            "\n",
            "[!!]Indexing page: 2\n",
            "\n",
            "[%] Indexed 35 Images on Page 2.\n",
            "\n",
            "===============================================\n",
            "\n",
            "[%] Downloading Image #17 from http://www.stagecoachdesigns.com/wp-content/uploads/2017/05/true-innovations-simply-comfortable-bonded-leather-executive-chair.jpg\n",
            "[%] File Downloaded !\n",
            "\n",
            "[%] Downloading Image #18 from https://ebth-com-production.imgix.net/2016/06/08/19/55/34/936/_6061667.jpg?ixlib=rb-1.1.0&amp;w=880&amp;h=880&amp;fit=crop&amp;crop=&amp;auto=format\n",
            "[%] File Downloaded !\n",
            "\n",
            "[%] Downloading Image #19 from https://i5.walmartimages.com/asr/fa973f85-b21f-42fb-8554-3293e06fbcf8_1.7e78277616ee510801e28018bf2072e9.jpeg\n",
            "[%] File Downloaded !\n",
            "\n",
            "[%] Downloading Image #20 from https://www.costco.co.uk/medias/sys_master/images/hf9/h86/46716339748894.jpg\n",
            "[%] File Downloaded !\n",
            "\n",
            "\n",
            "\n",
            "[%] Done. Downloaded 20 images.\n",
            "===============================================\n",
            "\n",
            "Please show your support here\n",
            "https://www.buymeacoffee.com/gurugaurav\n",
            "\n",
            "===============================================\n",
            "\n",
            "time: 45.7 s (started: 2021-06-28 15:09:23 +00:00)\n"
          ],
          "name": "stdout"
        }
      ]
    },
    {
      "cell_type": "code",
      "metadata": {
        "colab": {
          "base_uri": "https://localhost:8080/"
        },
        "id": "QFkn2Lwm9bQq",
        "outputId": "66e9b27c-1817-47a1-9fa2-7d297261b19e"
      },
      "source": [
        "downloader.download(\"bed\",limit=20,output_dir='images',\n",
        "                    adult_filter_off=True)"
      ],
      "execution_count": 6,
      "outputs": [
        {
          "output_type": "stream",
          "text": [
            "[%] Downloading Images to /content/images/bed\n",
            "\n",
            "\n",
            "[!!]Indexing page: 1\n",
            "\n",
            "[%] Indexed 20 Images on Page 1.\n",
            "\n",
            "===============================================\n",
            "\n",
            "[%] Downloading Image #1 from https://www.roomservice360.com/pub/media/catalog/product/t/r/true-bed-02.jpg\n",
            "[%] File Downloaded !\n",
            "\n",
            "[%] Downloading Image #2 from https://cassoni.com/image/catalog/Bonaldo/Beds/bon-true_bed-01-img-01.jpg\n",
            "[%] File Downloaded !\n",
            "\n",
            "[%] Downloading Image #3 from https://www.gomodern.co.uk/images/product/GM-TRUE-01-1-large_1.jpg\n",
            "[%] File Downloaded !\n",
            "\n",
            "[%] Downloading Image #4 from https://cassoni.com/image/catalog/Bonaldo/Beds/bon-true_bed-02-img-01.jpg\n",
            "[%] File Downloaded !\n",
            "\n",
            "[%] Downloading Image #5 from https://cassoni.com/image/catalog/Bonaldo/Beds/bon-true_bed-01-img-02.jpg\n",
            "[%] File Downloaded !\n",
            "\n",
            "[%] Downloading Image #6 from http://www.bonaldo.ca/wp-content/uploads/2015/07/bonaldo-true-bed_6-1024x731.jpg\n",
            "[%] File Downloaded !\n",
            "\n",
            "[%] Downloading Image #7 from https://cdn.1stopbedrooms.com/media/catalog/product/cache/1/image/cc0ec2d91bc4dd8becc1b9167d5c2be1/k/v/kvzg6gdrnesxdyrtl5pm_1.jpg\n",
            "[%] File Downloaded !\n",
            "\n",
            "[%] Downloading Image #8 from https://cassoni.com/image/catalog/Bonaldo/Beds/bon-true_bed-02-img-02.jpg\n",
            "[%] File Downloaded !\n",
            "\n",
            "[%] Downloading Image #9 from https://uniquefurniture.us/wp-content/uploads/2018/05/con-closto-089_rs1_hr.jpg\n",
            "[%] File Downloaded !\n",
            "\n",
            "[%] Downloading Image #10 from https://cassoni.com/image/catalog/Bonaldo/Beds/bon-true_single_bed-01-img-03.jpg\n",
            "[%] File Downloaded !\n",
            "\n",
            "[%] Downloading Image #11 from https://cassoni.com/image/catalog/Bonaldo/Beds/bon-true_single_bed-01-img-02.jpg\n",
            "[%] File Downloaded !\n",
            "\n",
            "[%] Downloading Image #12 from http://images.hayneedle.com/mgen/master:HOOK3859.jpg\n",
            "[%] File Downloaded !\n",
            "\n",
            "[%] Downloading Image #13 from https://i.pinimg.com/originals/a0/b0/f6/a0b0f697668c595d1f019f877e9d9841.jpg\n",
            "[%] File Downloaded !\n",
            "\n",
            "[%] Downloading Image #14 from https://cdn.shopify.com/s/files/1/2313/3837/products/true-contemporary-bed-full-grace-grey-tufted-linen-platform-bed-4082331582526_x700.jpg?v=1559364532\n",
            "[%] File Downloaded !\n",
            "\n",
            "[%] Downloading Image #15 from https://b3h2.scene7.com/is/image/BedBathandBeyond/633705218859c?$690$&amp;wid=690&amp;hei=690\n",
            "[%] File Downloaded !\n",
            "\n",
            "[%] Downloading Image #16 from http://img.edilportale.com/products/true-double-bed-bonaldo-206100-rel2963ac2b.jpg\n",
            "[%] File Downloaded !\n",
            "\n",
            "[%] Downloading Image #17 from https://image.sportsmansguide.com/adimgs/l/1/135266_ts.jpg\n",
            "[%] File Downloaded !\n",
            "\n",
            "[%] Downloading Image #18 from https://imgdataserver.com/items/hooker-true-vintage-panel-bed-bedroom-set-hoo570190866set_zm.jpg\n",
            "[%] File Downloaded !\n",
            "\n",
            "[%] Downloading Image #19 from https://cdn.shoplightspeed.com/shops/622148/files/13590619/image.jpg\n",
            "[%] File Downloaded !\n",
            "\n",
            "[%] Downloading Image #20 from https://cassoni.com/image/catalog/Bonaldo/Beds/bon-true_bed-02-img-03.jpg\n",
            "[%] File Downloaded !\n",
            "\n",
            "\n",
            "\n",
            "[%] Done. Downloaded 20 images.\n",
            "===============================================\n",
            "\n",
            "Please show your support here\n",
            "https://www.buymeacoffee.com/gurugaurav\n",
            "\n",
            "===============================================\n",
            "\n",
            "time: 5.96 s (started: 2021-06-28 15:10:08 +00:00)\n"
          ],
          "name": "stdout"
        }
      ]
    },
    {
      "cell_type": "code",
      "metadata": {
        "colab": {
          "base_uri": "https://localhost:8080/"
        },
        "id": "xzs6Fhlg93wb",
        "outputId": "91e7bc68-b6c1-45bb-ee94-83cb96690e22"
      },
      "source": [
        "import numpy as np\n",
        "import os\n",
        "from skimage.io import imread\n",
        "from skimage.transform import resize\n",
        "import matplotlib.pyplot as plt\n",
        "\n",
        "target = []\n",
        "images = []\n",
        "flat_data = []\n",
        "\n",
        "DATADIR = '/content/images'\n",
        "CATEGORIES = ['chair','bed']\n",
        "\n",
        "for category in CATEGORIES:\n",
        "  class_num = CATEGORIES.index(category)\n",
        "  path = os.path.join(DATADIR,category)\n",
        "  for img in os.listdir(path):\n",
        "    img_array = imread(os.path.join(path,img))\n",
        "    img_resized = resize(img_array,(150,150,3))\n",
        "    flat_data.append(img_resized.flatten())\n",
        "    images.append(img_resized)\n",
        "    target.append(class_num)\n",
        "\n",
        "flat_data = np.array(flat_data)\n",
        "target = np.array(target)\n",
        "images = np.array(images)"
      ],
      "execution_count": 7,
      "outputs": [
        {
          "output_type": "stream",
          "text": [
            "time: 26.1 s (started: 2021-06-28 15:10:14 +00:00)\n"
          ],
          "name": "stdout"
        }
      ]
    },
    {
      "cell_type": "code",
      "metadata": {
        "colab": {
          "base_uri": "https://localhost:8080/"
        },
        "id": "AkJscGOx_BlG",
        "outputId": "5d0c00e8-c63e-4520-f01e-b31ab00f5fff"
      },
      "source": [
        "from sklearn.model_selection import train_test_split\n",
        "x_train,x_test,y_train,y_test = train_test_split(flat_data,target,\n",
        "                                  test_size=0.2,random_state=69)"
      ],
      "execution_count": 8,
      "outputs": [
        {
          "output_type": "stream",
          "text": [
            "time: 76 ms (started: 2021-06-28 15:10:40 +00:00)\n"
          ],
          "name": "stdout"
        }
      ]
    },
    {
      "cell_type": "code",
      "metadata": {
        "colab": {
          "base_uri": "https://localhost:8080/"
        },
        "id": "R1zWhZqR_XfS",
        "outputId": "a3191d9f-3ad8-4320-8cac-ff7dbaf2786b"
      },
      "source": [
        "from sklearn.model_selection import GridSearchCV\n",
        "from sklearn import svm\n",
        "param_grid = [\n",
        "              {'C':[1,10,100,1000],'kernel':['linear']},\n",
        "              {'C':[1,10,100,1000],'gamma':[0.001,0.0001],'kernel':['rbf']},\n",
        "]\n",
        "\n",
        "svc = svm.SVC(probability=True)\n",
        "clf = GridSearchCV(svc,param_grid)\n",
        "clf.fit(x_train,y_train)"
      ],
      "execution_count": 9,
      "outputs": [
        {
          "output_type": "execute_result",
          "data": {
            "text/plain": [
              "GridSearchCV(cv=None, error_score=nan,\n",
              "             estimator=SVC(C=1.0, break_ties=False, cache_size=200,\n",
              "                           class_weight=None, coef0=0.0,\n",
              "                           decision_function_shape='ovr', degree=3,\n",
              "                           gamma='scale', kernel='rbf', max_iter=-1,\n",
              "                           probability=True, random_state=None, shrinking=True,\n",
              "                           tol=0.001, verbose=False),\n",
              "             iid='deprecated', n_jobs=None,\n",
              "             param_grid=[{'C': [1, 10, 100, 1000], 'kernel': ['linear']},\n",
              "                         {'C': [1, 10, 100, 1000], 'gamma': [0.001, 0.0001],\n",
              "                          'kernel': ['rbf']}],\n",
              "             pre_dispatch='2*n_jobs', refit=True, return_train_score=False,\n",
              "             scoring=None, verbose=0)"
            ]
          },
          "metadata": {
            "tags": []
          },
          "execution_count": 9
        },
        {
          "output_type": "stream",
          "text": [
            "time: 22.8 s (started: 2021-06-28 15:10:40 +00:00)\n"
          ],
          "name": "stdout"
        }
      ]
    },
    {
      "cell_type": "code",
      "metadata": {
        "colab": {
          "base_uri": "https://localhost:8080/"
        },
        "id": "DOYkGQ-DGobW",
        "outputId": "725b8cf1-1929-4d58-d376-8adc6ed227d8"
      },
      "source": [
        "from sklearn.metrics import accuracy_score,confusion_matrix"
      ],
      "execution_count": 10,
      "outputs": [
        {
          "output_type": "stream",
          "text": [
            "time: 1.57 ms (started: 2021-06-28 15:11:03 +00:00)\n"
          ],
          "name": "stdout"
        }
      ]
    },
    {
      "cell_type": "code",
      "metadata": {
        "colab": {
          "base_uri": "https://localhost:8080/"
        },
        "id": "hzoYxebb_yEm",
        "outputId": "612c58bb-5fbd-4e40-bd11-422c7dad75fc"
      },
      "source": [
        "import pickle\n",
        "pickle.dump(clf,open('img_model.p','wb'))\n",
        "model = pickle.load(open('img_model.p','rb'))"
      ],
      "execution_count": 20,
      "outputs": [
        {
          "output_type": "stream",
          "text": [
            "time: 27.7 ms (started: 2021-06-28 15:18:59 +00:00)\n"
          ],
          "name": "stdout"
        }
      ]
    },
    {
      "cell_type": "code",
      "metadata": {
        "colab": {
          "base_uri": "https://localhost:8080/",
          "height": 342
        },
        "id": "o_SvDo0hCRxb",
        "outputId": "5a335bad-1489-40dc-c260-9f87eaa8d8d9"
      },
      "source": [
        "flat_data = []\n",
        "url = input('Enter your URL:')\n",
        "img = imread(url)\n",
        "img_resized = resize(img,(150,150,3))\n",
        "flat_data.append(img_resized.flatten())\n",
        "flat_data = np.array(flat_data)\n",
        "print(img.shape)\n",
        "plt.imshow(img_resized)\n",
        "y_out = model.predict(flat_data)\n",
        "y_out = CATEGORIES[y_out[0]]\n",
        "print(f' PREDICTED OUTPUT: {y_out}')"
      ],
      "execution_count": 22,
      "outputs": [
        {
          "output_type": "stream",
          "text": [
            "Enter your URL:https://encrypted-tbn0.gstatic.com/images?q=tbn:ANd9GcR1yOD1QdizOfKXfOC3mysOL09p7YjMer0PAg&usqp=CAU\n",
            "(224, 225, 3)\n",
            " PREDICTED OUTPUT: chair\n"
          ],
          "name": "stdout"
        },
        {
          "output_type": "display_data",
          "data": {
            "image/png": "[encoded data removed]",
            "text/plain": [
              "<Figure size 432x288 with 1 Axes>"
            ]
          },
          "metadata": {
            "tags": [],
            "needs_background": "light"
          }
        },
        {
          "output_type": "stream",
          "text": [
            "time: 3.22 s (started: 2021-06-28 15:19:24 +00:00)\n"
          ],
          "name": "stdout"
        }
      ]
    },
    {
      "cell_type": "markdown",
      "metadata": {
        "id": "7jpCx00oGUob"
      },
      "source": [
        "# New Section"
      ]
    }
  ]
}